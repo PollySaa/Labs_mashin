{
  "nbformat": 4,
  "nbformat_minor": 0,
  "metadata": {
    "colab": {
      "provenance": [],
      "authorship_tag": "ABX9TyOPHH2hSjfnrJ8umOR0e1bj",
      "include_colab_link": true
    },
    "kernelspec": {
      "name": "python3",
      "display_name": "Python 3"
    },
    "language_info": {
      "name": "python"
    }
  },
  "cells": [
    {
      "cell_type": "markdown",
      "metadata": {
        "id": "view-in-github",
        "colab_type": "text"
      },
      "source": [
        "<a href=\"https://colab.research.google.com/github/PollySaa/Labs_mashin/blob/main/Laba_mashin_1_1.ipynb\" target=\"_parent\"><img src=\"https://colab.research.google.com/assets/colab-badge.svg\" alt=\"Open In Colab\"/></a>"
      ]
    },
    {
      "cell_type": "markdown",
      "source": [
        "# **Парная линейная регрессия**"
      ],
      "metadata": {
        "id": "eOqEGe0ja1os"
      }
    },
    {
      "cell_type": "markdown",
      "source": [
        "**Выполнила:** Смирнова П.М."
      ],
      "metadata": {
        "id": "50Aww583hkDe"
      }
    },
    {
      "cell_type": "markdown",
      "source": [
        "**Группа:** БИВТ-22-СП-4"
      ],
      "metadata": {
        "id": "GzMj71ADhp3D"
      }
    },
    {
      "cell_type": "markdown",
      "source": [
        "**Цель работы**\n",
        "\n",
        "Познакомиться с основными понятиями задачи регрессии и метода градиентного спуска."
      ],
      "metadata": {
        "id": "kUqCsIL1htht"
      }
    },
    {
      "cell_type": "markdown",
      "source": [
        "**Содержание работы**\n",
        "\n",
        "1. Загрузить данные из тектовых файлов.\n",
        "2. Создать и построить модель парной линейной регрессии с использованием метода градиентного спуска.\n",
        "3. Оценить на графике качество построенной модели.\n",
        "4. Построить кривые обучения."
      ],
      "metadata": {
        "id": "NVlGwkhThu1E"
      }
    },
    {
      "cell_type": "markdown",
      "source": [
        "Импорт нужных библиотек"
      ],
      "metadata": {
        "id": "VdUWtv-La8DJ"
      }
    },
    {
      "cell_type": "code",
      "execution_count": null,
      "metadata": {
        "id": "qNHvV_wpJr4C"
      },
      "outputs": [],
      "source": [
        "import numpy as np\n",
        "import pandas as pd\n",
        "import matplotlib.pyplot as plt"
      ]
    },
    {
      "cell_type": "markdown",
      "source": [
        "Считывание данных о котировке двух инструментов из csv-файлов"
      ],
      "metadata": {
        "id": "Peo2Xg6TblcK"
      }
    },
    {
      "cell_type": "code",
      "source": [
        "x = pd.read_csv('https://raw.githubusercontent.com/koroteevmv/ML_course/2023/ML1.1%20linear%20regression/data/x.csv', index_col=0)[\"0\"]\n",
        "y = pd.read_csv('https://raw.githubusercontent.com/koroteevmv/ML_course/2023/ML1.1%20linear%20regression/data/y.csv', index_col=0)[\"0\"]"
      ],
      "metadata": {
        "id": "Ny-PShD4J8ZT"
      },
      "execution_count": null,
      "outputs": []
    },
    {
      "cell_type": "markdown",
      "source": [
        "Смотрим формат файла с данными - состав и названия полей"
      ],
      "metadata": {
        "id": "etKw5sRLbu5K"
      }
    },
    {
      "cell_type": "code",
      "source": [
        "x.head()"
      ],
      "metadata": {
        "colab": {
          "base_uri": "https://localhost:8080/",
          "height": 241
        },
        "id": "fmKFNdwRKaP0",
        "outputId": "b941099f-4930-4839-fe83-c3182c0f0268"
      },
      "execution_count": null,
      "outputs": [
        {
          "output_type": "execute_result",
          "data": {
            "text/plain": [
              "0    1.462108\n",
              "1    1.133769\n",
              "2   -2.301539\n",
              "3    1.744812\n",
              "4    0.042214\n",
              "Name: 0, dtype: float64"
            ],
            "text/html": [
              "<div>\n",
              "<style scoped>\n",
              "    .dataframe tbody tr th:only-of-type {\n",
              "        vertical-align: middle;\n",
              "    }\n",
              "\n",
              "    .dataframe tbody tr th {\n",
              "        vertical-align: top;\n",
              "    }\n",
              "\n",
              "    .dataframe thead th {\n",
              "        text-align: right;\n",
              "    }\n",
              "</style>\n",
              "<table border=\"1\" class=\"dataframe\">\n",
              "  <thead>\n",
              "    <tr style=\"text-align: right;\">\n",
              "      <th></th>\n",
              "      <th>0</th>\n",
              "    </tr>\n",
              "  </thead>\n",
              "  <tbody>\n",
              "    <tr>\n",
              "      <th>0</th>\n",
              "      <td>1.462108</td>\n",
              "    </tr>\n",
              "    <tr>\n",
              "      <th>1</th>\n",
              "      <td>1.133769</td>\n",
              "    </tr>\n",
              "    <tr>\n",
              "      <th>2</th>\n",
              "      <td>-2.301539</td>\n",
              "    </tr>\n",
              "    <tr>\n",
              "      <th>3</th>\n",
              "      <td>1.744812</td>\n",
              "    </tr>\n",
              "    <tr>\n",
              "      <th>4</th>\n",
              "      <td>0.042214</td>\n",
              "    </tr>\n",
              "  </tbody>\n",
              "</table>\n",
              "</div><br><label><b>dtype:</b> float64</label>"
            ]
          },
          "metadata": {},
          "execution_count": 4
        }
      ]
    },
    {
      "cell_type": "markdown",
      "source": [
        "Смотрим размеры массивов x и y"
      ],
      "metadata": {
        "id": "UdBgAn9Lb2ZR"
      }
    },
    {
      "cell_type": "code",
      "source": [
        "x.shape, y.shape"
      ],
      "metadata": {
        "colab": {
          "base_uri": "https://localhost:8080/"
        },
        "id": "u8YXtHqwKfB_",
        "outputId": "8c3b4a59-90d3-438e-b93c-1102beb98dc9"
      },
      "execution_count": null,
      "outputs": [
        {
          "output_type": "execute_result",
          "data": {
            "text/plain": [
              "((20,), (20,))"
            ]
          },
          "metadata": {},
          "execution_count": 5
        }
      ]
    },
    {
      "cell_type": "markdown",
      "source": [
        "Для визуального представления совместного распределения значений используемых строим график зависимости одной переменной от другой"
      ],
      "metadata": {
        "id": "Uf5VHxQOcslp"
      }
    },
    {
      "cell_type": "code",
      "source": [
        "plt.figure()\n",
        "plt.scatter(x, y)\n",
        "plt.show()"
      ],
      "metadata": {
        "colab": {
          "base_uri": "https://localhost:8080/",
          "height": 430
        },
        "id": "SzLEgEdpLNHn",
        "outputId": "ec3ffd25-1ac5-447f-a7ae-8bcc72224ddd"
      },
      "execution_count": null,
      "outputs": [
        {
          "output_type": "display_data",
          "data": {
            "text/plain": [
              "<Figure size 640x480 with 1 Axes>"
            ],
            "image/png": "[encoded data removed]"
          },
          "metadata": {}
        }
      ]
    },
    {
      "cell_type": "markdown",
      "source": [
        "Класс, который будет реализовывать метод парной линейной регрессии"
      ],
      "metadata": {
        "id": "A9pZV0Xcc8r7"
      }
    },
    {
      "cell_type": "code",
      "source": [
        "class Model(object):\n",
        "    def __init__(self):\n",
        "        self.b0 = 1\n",
        "        self.b1 = 1\n",
        "        self.errors = []\n",
        "\n",
        "    def predict(self, x):\n",
        "        return self.b0 + self.b1 * x\n",
        "\n",
        "    def error(self, x, y):\n",
        "        return sum((self.predict(x) - y)**2) / (2 * len(y))\n",
        "\n",
        "    def fit(self, x, y):\n",
        "        alpha = 0.5\n",
        "        for _ in range(100):\n",
        "          dJ0 = sum(self.predict(x) - y) /len(y)\n",
        "          dJ1 = sum((self.predict(x) - y) * x) /len(y)\n",
        "          self.b0 -= alpha * dJ0\n",
        "          self.b1 -= alpha * dJ1\n",
        "          self.errors.append(self.error(x, y))"
      ],
      "metadata": {
        "id": "oHoZOeymLXnG"
      },
      "execution_count": null,
      "outputs": []
    },
    {
      "cell_type": "code",
      "source": [
        "model = Model()\n",
        "print(\"Начальная ошибка:\", model.error(x, y))"
      ],
      "metadata": {
        "colab": {
          "base_uri": "https://localhost:8080/"
        },
        "id": "LTZsJhF-OMRF",
        "outputId": "b7847b05-6926-428d-9229-9072e620606c"
      },
      "execution_count": null,
      "outputs": [
        {
          "output_type": "stream",
          "name": "stdout",
          "text": [
            "Начальная ошибка: 2862.9340147066887\n"
          ]
        }
      ]
    },
    {
      "cell_type": "code",
      "source": [
        "model.fit(x, y)\n",
        "print(\"Конечная ошибка:\", model.error(x, y))"
      ],
      "metadata": {
        "colab": {
          "base_uri": "https://localhost:8080/"
        },
        "id": "hJ8A2Dd9P_bp",
        "outputId": "6aa1a643-2114-4938-9b6d-e19430f5f80c"
      },
      "execution_count": null,
      "outputs": [
        {
          "output_type": "stream",
          "name": "stdout",
          "text": [
            "Конечная ошибка: 7.948266658167457e-29\n"
          ]
        }
      ]
    },
    {
      "cell_type": "markdown",
      "source": [
        "Регрессия на графике"
      ],
      "metadata": {
        "id": "BS7wOOtFdNZA"
      }
    },
    {
      "cell_type": "code",
      "source": [
        "plt.figure()\n",
        "plt.scatter(x, y)\n",
        "\n",
        "x_pred = np.linspace(-2.5, 2, 100)\n",
        "y_pred = model.predict(x_pred)\n",
        "plt.plot(x_pred, y_pred, 'r')\n",
        "\n",
        "plt.show()"
      ],
      "metadata": {
        "colab": {
          "base_uri": "https://localhost:8080/",
          "height": 431
        },
        "id": "HGowXcvPOu5F",
        "outputId": "6a1b9260-743f-4f95-8a59-ba3939b0eaea"
      },
      "execution_count": null,
      "outputs": [
        {
          "output_type": "display_data",
          "data": {
            "text/plain": [
              "<Figure size 640x480 with 1 Axes>"
            ],
            "image/png": "[encoded data removed]"
          },
          "metadata": {}
        }
      ]
    },
    {
      "cell_type": "code",
      "source": [
        "plt.figure()\n",
        "plt.plot(model.errors)\n",
        "plt.xlabel('Итерации')\n",
        "plt.ylabel('Ошибка')\n",
        "plt.title('Кривая обучения')\n",
        "plt.show()"
      ],
      "metadata": {
        "colab": {
          "base_uri": "https://localhost:8080/",
          "height": 472
        },
        "id": "RovZaUjydQ5m",
        "outputId": "e5761b48-32d4-45df-e546-e73efd9f9cd1"
      },
      "execution_count": null,
      "outputs": [
        {
          "output_type": "display_data",
          "data": {
            "text/plain": [
              "<Figure size 640x480 with 1 Axes>"
            ],
            "image/png": "[encoded data removed]"
          },
          "metadata": {}
        }
      ]
    },
    {
      "cell_type": "markdown",
      "source": [
        "# **Задания для самостоятельной работы**"
      ],
      "metadata": {
        "id": "UY0V3Ip2k9vE"
      }
    },
    {
      "cell_type": "markdown",
      "source": [
        "1. Проверьте работу модели с разными начальными значениями параметров. Убедитесь, что модель всегда сходится к оптимуму.\n",
        "2. Проверьте работу модели с другими значениями скорости обучения. Найдите значение, при котором градиентный спуск расходится.\n",
        "3. Модифицируйте код модели таким образом, чтобы он корректно работал как с Series, так и с DataFrame. При этом, конечно, датафрейм не должен содержать \"лишних\" столбцов.\n",
        "4. Модифицируйте алгоритм градиентного спука таким образом, чтобы он останавливаля, если ошибка перестает снижаться. Для этого сравнивайте, на сколько понизилась ошибка на каждом шаге и если это снижение меньше некоторой заранее заданной очень маленькой величины - выходите из цикла. Эту величину можно взять одну миллионную, например.\n",
        "5. Убедитесь, что алгоритм градиентного спуска завершается всегда - либо если ошибка перестает существенно меняться, либо при достижении максимального количества шагов.\n",
        "6. Реализуйте механизм адаптивной скорости обучения. Чтобы не задавать вручную параметр alpha можно отслеживать, увеличивается ли ошибка после первого шага градиентного спуска. В начале задаем скорость обучения близкой к 1. Если ошибка после одного шага увеличивается - скорость обучения надо уменьшить (например, в 2 раза). Если не увеличивается - скорость обучения можно не трогать. Еще подумайте, как после уменьшения скорости перезапускать градиентный спуск заново.\n",
        "7. Добавьте к классу модели метод рисования графиков. Сделайте так, чтобы он был независим от масштаба переданных данных."
      ],
      "metadata": {
        "id": "ERIVMVjq79GK"
      }
    },
    {
      "cell_type": "markdown",
      "source": [
        "1. Проверьте работу модели с разными начальными значениями параметров. Убедитесь, что модель всегда сходится к оптимуму."
      ],
      "metadata": {
        "id": "YNtbVyrWoYcp"
      }
    },
    {
      "cell_type": "code",
      "source": [
        "import numpy as np\n",
        "import pandas as pd\n",
        "import matplotlib.pyplot as plt\n",
        "\n",
        "# Загрузка данных\n",
        "x = pd.read_csv('https://raw.githubusercontent.com/koroteevmv/ML_course/2023/ML1.1%20linear%20regression/data/x.csv', index_col=0)[\"0\"]\n",
        "y = pd.read_csv('https://raw.githubusercontent.com/koroteevmv/ML_course/2023/ML1.1%20linear%20regression/data/y.csv', index_col=0)[\"0\"]\n",
        "\n",
        "class Model:\n",
        "    def __init__(self):\n",
        "        self.b0 = np.random.randn()\n",
        "        self.b1 = np.random.randn()\n",
        "        self.errors = []\n",
        "        self.alpha = 0.1\n",
        "        self.tolerance = 1e-6\n",
        "        self.max_iterations = 1000\n",
        "\n",
        "    def predict(self, x):\n",
        "        return self.b0 + self.b1 * x\n",
        "\n",
        "    def error(self, x, y):\n",
        "        return sum((self.predict(x) - y)**2) / (2 * len(y))\n",
        "\n",
        "    def fit(self, x, y):\n",
        "        x = np.array(x)\n",
        "        y = np.array(y)\n",
        "        self.errors = []\n",
        "        iteration = 0\n",
        "        prev_error = float('inf')\n",
        "\n",
        "        while iteration < self.max_iterations:\n",
        "            dJ0 = sum(self.predict(x) - y) / len(y)\n",
        "            dJ1 = sum((self.predict(x) - y) * x) / len(y)\n",
        "            self.b0 -= self.alpha * dJ0\n",
        "            self.b1 -= self.alpha * dJ1\n",
        "\n",
        "            current_error = self.error(x, y)\n",
        "            self.errors.append(current_error)\n",
        "\n",
        "            if abs(prev_error - current_error) < self.tolerance:\n",
        "                print(f\"Обучение завершено на итерации {iteration}: ошибка стабилизировалась.\")\n",
        "                break\n",
        "\n",
        "            prev_error = current_error\n",
        "            iteration += 1\n",
        "\n",
        "        if iteration == self.max_iterations:\n",
        "            print(\"Обучение завершено: достигнуто максимальное количество итераций.\")\n",
        "\n",
        "print(\"Тестирование с разными начальными значениями:\")\n",
        "for _ in range(5):\n",
        "    model = Model()\n",
        "    model.fit(x, y)\n",
        "    print(f\"b0: {model.b0}, b1: {model.b1}, конечная ошибка: {model.errors[-1]}\")"
      ],
      "metadata": {
        "colab": {
          "base_uri": "https://localhost:8080/"
        },
        "id": "8CRqyhtldtFp",
        "outputId": "e0a6d83c-96e6-49c8-acea-1269b9c328f5"
      },
      "execution_count": null,
      "outputs": [
        {
          "output_type": "stream",
          "name": "stdout",
          "text": [
            "Тестирование с разными начальными значениями:\n",
            "Обучение завершено на итерации 92: ошибка стабилизировалась.\n",
            "b0: -0.002655345558609007, b1: 69.18629534626487, конечная ошибка: 4.254511521811717e-06\n",
            "Обучение завершено на итерации 92: ошибка стабилизировалась.\n",
            "b0: -0.0026662796100808367, b1: 69.18629399826433, конечная ошибка: 4.2834046856181285e-06\n",
            "Обучение завершено на итерации 92: ошибка стабилизировалась.\n",
            "b0: -0.002666278428966841, b1: 69.18629388023095, конечная ошибка: 4.28356513427741e-06\n",
            "Обучение завершено на итерации 92: ошибка стабилизировалась.\n",
            "b0: -0.002744822604079336, b1: 69.18625854357164, конечная ошибка: 4.530531412463072e-06\n",
            "Обучение завершено на итерации 93: ошибка стабилизировалась.\n",
            "b0: -0.0025218579023369913, b1: 69.18638424759902, конечная ошибка: 3.8144140335669562e-06\n"
          ]
        }
      ]
    },
    {
      "cell_type": "markdown",
      "source": [
        "2. Проверка работы модели с разными значениями скорости обучения"
      ],
      "metadata": {
        "id": "kGSweA4NomMN"
      }
    },
    {
      "cell_type": "code",
      "source": [
        "print(\"\\nТестирование с разными значениями скорости обучения:\")\n",
        "alphas = [0.001, 0.01, 0.1, 0.5, 1.0, 2.0]\n",
        "for alpha in alphas:\n",
        "    model = Model()\n",
        "    model.alpha = alpha\n",
        "    model.fit(x, y)\n",
        "    print(f\"alpha: {alpha}, конечная ошибка: {model.errors[-1]}\")"
      ],
      "metadata": {
        "colab": {
          "base_uri": "https://localhost:8080/"
        },
        "id": "5IEpsd8lomzi",
        "outputId": "ee3bbc96-6ff5-4ea4-d3b7-dcf3b848930d"
      },
      "execution_count": null,
      "outputs": [
        {
          "output_type": "stream",
          "name": "stdout",
          "text": [
            "\n",
            "Тестирование с разными значениями скорости обучения:\n",
            "Обучение завершено: достигнуто максимальное количество итераций.\n",
            "alpha: 0.001, конечная ошибка: 251.41756187951984\n",
            "Обучение завершено на итерации 838: ошибка стабилизировалась.\n",
            "alpha: 0.01, конечная ошибка: 5.148657667614127e-05\n",
            "Обучение завершено на итерации 93: ошибка стабилизировалась.\n",
            "alpha: 0.1, конечная ошибка: 3.7921906613032037e-06\n",
            "Обучение завершено на итерации 16: ошибка стабилизировалась.\n",
            "alpha: 0.5, конечная ошибка: 1.6423112989409376e-07\n",
            "Обучение завершено на итерации 9: ошибка стабилизировалась.\n",
            "alpha: 1.0, конечная ошибка: 4.2466857794187385e-08\n",
            "Обучение завершено: достигнуто максимальное количество итераций.\n",
            "alpha: 2.0, конечная ошибка: inf\n"
          ]
        },
        {
          "output_type": "stream",
          "name": "stderr",
          "text": [
            "<ipython-input-1-b119a770a514>:22: RuntimeWarning: overflow encountered in scalar add\n",
            "  return sum((self.predict(x) - y)**2) / (2 * len(y))\n",
            "<ipython-input-1-b119a770a514>:40: RuntimeWarning: invalid value encountered in scalar subtract\n",
            "  if abs(prev_error - current_error) < self.tolerance:\n",
            "<ipython-input-1-b119a770a514>:22: RuntimeWarning: overflow encountered in square\n",
            "  return sum((self.predict(x) - y)**2) / (2 * len(y))\n"
          ]
        }
      ]
    },
    {
      "cell_type": "markdown",
      "source": [
        "3. Модификация кода для работы с Series и DataFrame"
      ],
      "metadata": {
        "id": "fQmi_QfCo240"
      }
    },
    {
      "cell_type": "code",
      "source": [
        "class Model:\n",
        "    def __init__(self):\n",
        "        self.b0 = np.random.randn()\n",
        "        self.b1 = np.random.randn()\n",
        "        self.errors = []\n",
        "        self.alpha = 0.1\n",
        "        self.tolerance = 1e-6\n",
        "        self.max_iterations = 1000\n",
        "\n",
        "    def predict(self, x):\n",
        "        return self.b0 + self.b1 * x\n",
        "\n",
        "    def error(self, x, y):\n",
        "        return sum((self.predict(x) - y)**2) / (2 * len(y))\n",
        "\n",
        "    def fit(self, x, y):\n",
        "        x = np.array(x).flatten()\n",
        "        y = np.array(y).flatten()\n",
        "        self.errors = []\n",
        "        iteration = 0\n",
        "        prev_error = float('inf')\n",
        "\n",
        "        while iteration < self.max_iterations:\n",
        "            dJ0 = sum(self.predict(x) - y) / len(y)\n",
        "            dJ1 = sum((self.predict(x) - y) * x) / len(y)\n",
        "            self.b0 -= self.alpha * dJ0\n",
        "            self.b1 -= self.alpha * dJ1\n",
        "\n",
        "            current_error = self.error(x, y)\n",
        "            self.errors.append(current_error)\n",
        "\n",
        "            if abs(prev_error - current_error) < self.tolerance:\n",
        "                print(f\"Обучение завершено на итерации {iteration}: ошибка стабилизировалась.\")\n",
        "                break\n",
        "\n",
        "            prev_error = current_error\n",
        "            iteration += 1\n",
        "\n",
        "        if iteration == self.max_iterations:\n",
        "            print(\"Обучение завершено: достигнуто максимальное количество итераций.\")"
      ],
      "metadata": {
        "id": "tTpsMDBlo5U0"
      },
      "execution_count": null,
      "outputs": []
    },
    {
      "cell_type": "markdown",
      "source": [
        "6. Механизм адаптивной скорости обучения"
      ],
      "metadata": {
        "id": "axPV-sgYpEn1"
      }
    },
    {
      "cell_type": "code",
      "source": [
        "class Model:\n",
        "    def __init__(self):\n",
        "        self.b0 = np.random.randn()\n",
        "        self.b1 = np.random.randn()\n",
        "        self.errors = []\n",
        "        self.alpha = 1.0\n",
        "        self.tolerance = 1e-6\n",
        "        self.max_iterations = 1000\n",
        "\n",
        "    def predict(self, x):\n",
        "        return self.b0 + self.b1 * x\n",
        "\n",
        "    def error(self, x, y):\n",
        "        return sum((self.predict(x) - y)**2) / (2 * len(y))\n",
        "\n",
        "    def fit(self, x, y):\n",
        "        x = np.array(x).flatten()\n",
        "        y = np.array(y).flatten()\n",
        "        self.errors = []\n",
        "        iteration = 0\n",
        "        prev_error = float('inf')\n",
        "\n",
        "        while iteration < self.max_iterations:\n",
        "            dJ0 = sum(self.predict(x) - y) / len(y)\n",
        "            dJ1 = sum((self.predict(x) - y) * x) / len(y)\n",
        "            self.b0 -= self.alpha * dJ0\n",
        "            self.b1 -= self.alpha * dJ1\n",
        "\n",
        "            current_error = self.error(x, y)\n",
        "            self.errors.append(current_error)\n",
        "\n",
        "            if abs(prev_error - current_error) < self.tolerance:\n",
        "                print(f\"Обучение завершено на итерации {iteration}: ошибка стабилизировалась.\")\n",
        "                break\n",
        "\n",
        "            if iteration > 0 and self.errors[-1] > self.errors[-2]:\n",
        "                self.alpha /= 2\n",
        "                print(f\"Скорость обучения уменьшена до {self.alpha}\")\n",
        "\n",
        "            prev_error = current_error\n",
        "            iteration += 1\n",
        "\n",
        "        if iteration == self.max_iterations:\n",
        "            print(\"Обучение завершено: достигнуто максимальное количество итераций.\")"
      ],
      "metadata": {
        "id": "5uTgBS5PpI0c"
      },
      "execution_count": null,
      "outputs": []
    },
    {
      "cell_type": "markdown",
      "source": [
        "7. Метод рисования графиков"
      ],
      "metadata": {
        "id": "ttqByzRGpLZw"
      }
    },
    {
      "cell_type": "code",
      "source": [],
      "metadata": {
        "id": "_1RvBxE9pNau"
      },
      "execution_count": null,
      "outputs": []
    }
  ]
}