{
  "nbformat": 4,
  "nbformat_minor": 0,
  "metadata": {
    "colab": {
      "provenance": [],
      "authorship_tag": "ABX9TyPCCR2GuAySjAG0m3CJMFj+",
      "include_colab_link": true
    },
    "kernelspec": {
      "name": "python3",
      "display_name": "Python 3"
    },
    "language_info": {
      "name": "python"
    }
  },
  "cells": [
    {
      "cell_type": "markdown",
      "metadata": {
        "id": "view-in-github",
        "colab_type": "text"
      },
      "source": [
        "<a href=\"https://colab.research.google.com/github/PollySaa/Labs_mashin/blob/main/Laba_mashin_1_2.ipynb\" target=\"_parent\"><img src=\"https://colab.research.google.com/assets/colab-badge.svg\" alt=\"Open In Colab\"/></a>"
      ]
    },
    {
      "cell_type": "code",
      "execution_count": null,
      "metadata": {
        "id": "Ih0eLuORSMru"
      },
      "outputs": [],
      "source": [
        "import numpy as np\n",
        "import pandas as pd\n",
        "import matplotlib.pyplot as plt"
      ]
    },
    {
      "cell_type": "code",
      "source": [
        "x = pd.read_csv(\"https://github.com/koroteevmv/ML_course/raw/main/ML1.2%20multivariate/data/0_x.csv\")"
      ],
      "metadata": {
        "id": "fxcx7L4Ia0bv"
      },
      "execution_count": null,
      "outputs": []
    },
    {
      "cell_type": "code",
      "source": [
        "x.head()"
      ],
      "metadata": {
        "colab": {
          "base_uri": "https://localhost:8080/",
          "height": 206
        },
        "id": "iz4xcsWbbjvW",
        "outputId": "3660f7d2-49c4-42f4-c601-3fcc1b08dcb6"
      },
      "execution_count": null,
      "outputs": [
        {
          "output_type": "execute_result",
          "data": {
            "text/plain": [
              "   0.07184119218267622  0.8553524138064769  -0.3055966142959303  \\\n",
              "0             0.139521           -0.423507             0.461059   \n",
              "1             1.626311           -0.257622            -0.697520   \n",
              "2            -1.183233           -0.826343             0.073047   \n",
              "3            -0.783365           -0.861232             0.951448   \n",
              "4             3.077357            0.948615            -0.295527   \n",
              "\n",
              "   0.028252569993086545  1.8268953710701943  \n",
              "0             -0.447400           -0.034988  \n",
              "1              1.413219            1.086292  \n",
              "2             -0.639690           -0.503273  \n",
              "3             -0.117306            0.680597  \n",
              "4              1.390358           -0.116174  "
            ],
            "text/html": [
              "\n",
              "  <div id=\"df-daff9e1b-2b91-45c4-8811-f59f1e58f6ba\" class=\"colab-df-container\">\n",
              "    <div>\n",
              "<style scoped>\n",
              "    .dataframe tbody tr th:only-of-type {\n",
              "        vertical-align: middle;\n",
              "    }\n",
              "\n",
              "    .dataframe tbody tr th {\n",
              "        vertical-align: top;\n",
              "    }\n",
              "\n",
              "    .dataframe thead th {\n",
              "        text-align: right;\n",
              "    }\n",
              "</style>\n",
              "<table border=\"1\" class=\"dataframe\">\n",
              "  <thead>\n",
              "    <tr style=\"text-align: right;\">\n",
              "      <th></th>\n",
              "      <th>0.07184119218267622</th>\n",
              "      <th>0.8553524138064769</th>\n",
              "      <th>-0.3055966142959303</th>\n",
              "      <th>0.028252569993086545</th>\n",
              "      <th>1.8268953710701943</th>\n",
              "    </tr>\n",
              "  </thead>\n",
              "  <tbody>\n",
              "    <tr>\n",
              "      <th>0</th>\n",
              "      <td>0.139521</td>\n",
              "      <td>-0.423507</td>\n",
              "      <td>0.461059</td>\n",
              "      <td>-0.447400</td>\n",
              "      <td>-0.034988</td>\n",
              "    </tr>\n",
              "    <tr>\n",
              "      <th>1</th>\n",
              "      <td>1.626311</td>\n",
              "      <td>-0.257622</td>\n",
              "      <td>-0.697520</td>\n",
              "      <td>1.413219</td>\n",
              "      <td>1.086292</td>\n",
              "    </tr>\n",
              "    <tr>\n",
              "      <th>2</th>\n",
              "      <td>-1.183233</td>\n",
              "      <td>-0.826343</td>\n",
              "      <td>0.073047</td>\n",
              "      <td>-0.639690</td>\n",
              "      <td>-0.503273</td>\n",
              "    </tr>\n",
              "    <tr>\n",
              "      <th>3</th>\n",
              "      <td>-0.783365</td>\n",
              "      <td>-0.861232</td>\n",
              "      <td>0.951448</td>\n",
              "      <td>-0.117306</td>\n",
              "      <td>0.680597</td>\n",
              "    </tr>\n",
              "    <tr>\n",
              "      <th>4</th>\n",
              "      <td>3.077357</td>\n",
              "      <td>0.948615</td>\n",
              "      <td>-0.295527</td>\n",
              "      <td>1.390358</td>\n",
              "      <td>-0.116174</td>\n",
              "    </tr>\n",
              "  </tbody>\n",
              "</table>\n",
              "</div>\n",
              "    <div class=\"colab-df-buttons\">\n",
              "\n",
              "  <div class=\"colab-df-container\">\n",
              "    <button class=\"colab-df-convert\" onclick=\"convertToInteractive('df-daff9e1b-2b91-45c4-8811-f59f1e58f6ba')\"\n",
              "            title=\"Convert this dataframe to an interactive table.\"\n",
              "            style=\"display:none;\">\n",
              "\n",
              "  <svg xmlns=\"http://www.w3.org/2000/svg\" height=\"24px\" viewBox=\"0 -960 960 960\">\n",
              "    <path d=\"M120-120v-720h720v720H120Zm60-500h600v-160H180v160Zm220 220h160v-160H400v160Zm0 220h160v-160H400v160ZM180-400h160v-160H180v160Zm440 0h160v-160H620v160ZM180-180h160v-160H180v160Zm440 0h160v-160H620v160Z\"/>\n",
              "  </svg>\n",
              "    </button>\n",
              "\n",
              "  <style>\n",
              "    .colab-df-container {\n",
              "      display:flex;\n",
              "      gap: 12px;\n",
              "    }\n",
              "\n",
              "    .colab-df-convert {\n",
              "      background-color: #E8F0FE;\n",
              "      border: none;\n",
              "      border-radius: 50%;\n",
              "      cursor: pointer;\n",
              "      display: none;\n",
              "      fill: #1967D2;\n",
              "      height: 32px;\n",
              "      padding: 0 0 0 0;\n",
              "      width: 32px;\n",
              "    }\n",
              "\n",
              "    .colab-df-convert:hover {\n",
              "      background-color: #E2EBFA;\n",
              "      box-shadow: 0px 1px 2px rgba(60, 64, 67, 0.3), 0px 1px 3px 1px rgba(60, 64, 67, 0.15);\n",
              "      fill: #174EA6;\n",
              "    }\n",
              "\n",
              "    .colab-df-buttons div {\n",
              "      margin-bottom: 4px;\n",
              "    }\n",
              "\n",
              "    [theme=dark] .colab-df-convert {\n",
              "      background-color: #3B4455;\n",
              "      fill: #D2E3FC;\n",
              "    }\n",
              "\n",
              "    [theme=dark] .colab-df-convert:hover {\n",
              "      background-color: #434B5C;\n",
              "      box-shadow: 0px 1px 3px 1px rgba(0, 0, 0, 0.15);\n",
              "      filter: drop-shadow(0px 1px 2px rgba(0, 0, 0, 0.3));\n",
              "      fill: #FFFFFF;\n",
              "    }\n",
              "  </style>\n",
              "\n",
              "    <script>\n",
              "      const buttonEl =\n",
              "        document.querySelector('#df-daff9e1b-2b91-45c4-8811-f59f1e58f6ba button.colab-df-convert');\n",
              "      buttonEl.style.display =\n",
              "        google.colab.kernel.accessAllowed ? 'block' : 'none';\n",
              "\n",
              "      async function convertToInteractive(key) {\n",
              "        const element = document.querySelector('#df-daff9e1b-2b91-45c4-8811-f59f1e58f6ba');\n",
              "        const dataTable =\n",
              "          await google.colab.kernel.invokeFunction('convertToInteractive',\n",
              "                                                    [key], {});\n",
              "        if (!dataTable) return;\n",
              "\n",
              "        const docLinkHtml = 'Like what you see? Visit the ' +\n",
              "          '<a target=\"_blank\" href=https://colab.research.google.com/notebooks/data_table.ipynb>data table notebook</a>'\n",
              "          + ' to learn more about interactive tables.';\n",
              "        element.innerHTML = '';\n",
              "        dataTable['output_type'] = 'display_data';\n",
              "        await google.colab.output.renderOutput(dataTable, element);\n",
              "        const docLink = document.createElement('div');\n",
              "        docLink.innerHTML = docLinkHtml;\n",
              "        element.appendChild(docLink);\n",
              "      }\n",
              "    </script>\n",
              "  </div>\n",
              "\n",
              "\n",
              "<div id=\"df-a0cb5152-ebed-4b83-9f9f-df8f3a73b36e\">\n",
              "  <button class=\"colab-df-quickchart\" onclick=\"quickchart('df-a0cb5152-ebed-4b83-9f9f-df8f3a73b36e')\"\n",
              "            title=\"Suggest charts\"\n",
              "            style=\"display:none;\">\n",
              "\n",
              "<svg xmlns=\"http://www.w3.org/2000/svg\" height=\"24px\"viewBox=\"0 0 24 24\"\n",
              "     width=\"24px\">\n",
              "    <g>\n",
              "        <path d=\"M19 3H5c-1.1 0-2 .9-2 2v14c0 1.1.9 2 2 2h14c1.1 0 2-.9 2-2V5c0-1.1-.9-2-2-2zM9 17H7v-7h2v7zm4 0h-2V7h2v10zm4 0h-2v-4h2v4z\"/>\n",
              "    </g>\n",
              "</svg>\n",
              "  </button>\n",
              "\n",
              "<style>\n",
              "  .colab-df-quickchart {\n",
              "      --bg-color: #E8F0FE;\n",
              "      --fill-color: #1967D2;\n",
              "      --hover-bg-color: #E2EBFA;\n",
              "      --hover-fill-color: #174EA6;\n",
              "      --disabled-fill-color: #AAA;\n",
              "      --disabled-bg-color: #DDD;\n",
              "  }\n",
              "\n",
              "  [theme=dark] .colab-df-quickchart {\n",
              "      --bg-color: #3B4455;\n",
              "      --fill-color: #D2E3FC;\n",
              "      --hover-bg-color: #434B5C;\n",
              "      --hover-fill-color: #FFFFFF;\n",
              "      --disabled-bg-color: #3B4455;\n",
              "      --disabled-fill-color: #666;\n",
              "  }\n",
              "\n",
              "  .colab-df-quickchart {\n",
              "    background-color: var(--bg-color);\n",
              "    border: none;\n",
              "    border-radius: 50%;\n",
              "    cursor: pointer;\n",
              "    display: none;\n",
              "    fill: var(--fill-color);\n",
              "    height: 32px;\n",
              "    padding: 0;\n",
              "    width: 32px;\n",
              "  }\n",
              "\n",
              "  .colab-df-quickchart:hover {\n",
              "    background-color: var(--hover-bg-color);\n",
              "    box-shadow: 0 1px 2px rgba(60, 64, 67, 0.3), 0 1px 3px 1px rgba(60, 64, 67, 0.15);\n",
              "    fill: var(--button-hover-fill-color);\n",
              "  }\n",
              "\n",
              "  .colab-df-quickchart-complete:disabled,\n",
              "  .colab-df-quickchart-complete:disabled:hover {\n",
              "    background-color: var(--disabled-bg-color);\n",
              "    fill: var(--disabled-fill-color);\n",
              "    box-shadow: none;\n",
              "  }\n",
              "\n",
              "  .colab-df-spinner {\n",
              "    border: 2px solid var(--fill-color);\n",
              "    border-color: transparent;\n",
              "    border-bottom-color: var(--fill-color);\n",
              "    animation:\n",
              "      spin 1s steps(1) infinite;\n",
              "  }\n",
              "\n",
              "  @keyframes spin {\n",
              "    0% {\n",
              "      border-color: transparent;\n",
              "      border-bottom-color: var(--fill-color);\n",
              "      border-left-color: var(--fill-color);\n",
              "    }\n",
              "    20% {\n",
              "      border-color: transparent;\n",
              "      border-left-color: var(--fill-color);\n",
              "      border-top-color: var(--fill-color);\n",
              "    }\n",
              "    30% {\n",
              "      border-color: transparent;\n",
              "      border-left-color: var(--fill-color);\n",
              "      border-top-color: var(--fill-color);\n",
              "      border-right-color: var(--fill-color);\n",
              "    }\n",
              "    40% {\n",
              "      border-color: transparent;\n",
              "      border-right-color: var(--fill-color);\n",
              "      border-top-color: var(--fill-color);\n",
              "    }\n",
              "    60% {\n",
              "      border-color: transparent;\n",
              "      border-right-color: var(--fill-color);\n",
              "    }\n",
              "    80% {\n",
              "      border-color: transparent;\n",
              "      border-right-color: var(--fill-color);\n",
              "      border-bottom-color: var(--fill-color);\n",
              "    }\n",
              "    90% {\n",
              "      border-color: transparent;\n",
              "      border-bottom-color: var(--fill-color);\n",
              "    }\n",
              "  }\n",
              "</style>\n",
              "\n",
              "  <script>\n",
              "    async function quickchart(key) {\n",
              "      const quickchartButtonEl =\n",
              "        document.querySelector('#' + key + ' button');\n",
              "      quickchartButtonEl.disabled = true;  // To prevent multiple clicks.\n",
              "      quickchartButtonEl.classList.add('colab-df-spinner');\n",
              "      try {\n",
              "        const charts = await google.colab.kernel.invokeFunction(\n",
              "            'suggestCharts', [key], {});\n",
              "      } catch (error) {\n",
              "        console.error('Error during call to suggestCharts:', error);\n",
              "      }\n",
              "      quickchartButtonEl.classList.remove('colab-df-spinner');\n",
              "      quickchartButtonEl.classList.add('colab-df-quickchart-complete');\n",
              "    }\n",
              "    (() => {\n",
              "      let quickchartButtonEl =\n",
              "        document.querySelector('#df-a0cb5152-ebed-4b83-9f9f-df8f3a73b36e button');\n",
              "      quickchartButtonEl.style.display =\n",
              "        google.colab.kernel.accessAllowed ? 'block' : 'none';\n",
              "    })();\n",
              "  </script>\n",
              "</div>\n",
              "    </div>\n",
              "  </div>\n"
            ],
            "application/vnd.google.colaboratory.intrinsic+json": {
              "type": "dataframe",
              "variable_name": "x",
              "summary": "{\n  \"name\": \"x\",\n  \"rows\": 386,\n  \"fields\": [\n    {\n      \"column\": \"0.07184119218267622\",\n      \"properties\": {\n        \"dtype\": \"number\",\n        \"std\": 1.0078637477462935,\n        \"min\": -2.721942272258224,\n        \"max\": 3.077356600020138,\n        \"num_unique_values\": 386,\n        \"samples\": [\n          2.245851892848774,\n          0.330777427485654,\n          0.5268741642559932\n        ],\n        \"semantic_type\": \"\",\n        \"description\": \"\"\n      }\n    },\n    {\n      \"column\": \"0.8553524138064769\",\n      \"properties\": {\n        \"dtype\": \"number\",\n        \"std\": 1.0086308722660897,\n        \"min\": -3.5265869249292883,\n        \"max\": 2.779462964831365,\n        \"num_unique_values\": 386,\n        \"samples\": [\n          -0.512608789886783,\n          0.5719693944976249,\n          2.779462964831365\n        ],\n        \"semantic_type\": \"\",\n        \"description\": \"\"\n      }\n    },\n    {\n      \"column\": \"-0.3055966142959303\",\n      \"properties\": {\n        \"dtype\": \"number\",\n        \"std\": 1.014805378552171,\n        \"min\": -2.952846532188352,\n        \"max\": 2.959742264680178,\n        \"num_unique_values\": 386,\n        \"samples\": [\n          -0.5111086858305861,\n          -0.4302880808850298,\n          0.7362238705469\n        ],\n        \"semantic_type\": \"\",\n        \"description\": \"\"\n      }\n    },\n    {\n      \"column\": \"0.028252569993086545\",\n      \"properties\": {\n        \"dtype\": \"number\",\n        \"std\": 0.9977887671369704,\n        \"min\": -3.46813415676292,\n        \"max\": 2.943177916269174,\n        \"num_unique_values\": 386,\n        \"samples\": [\n          0.2040135338277794,\n          1.0302332851298188,\n          -0.9005021207027425\n        ],\n        \"semantic_type\": \"\",\n        \"description\": \"\"\n      }\n    },\n    {\n      \"column\": \"1.8268953710701943\",\n      \"properties\": {\n        \"dtype\": \"number\",\n        \"std\": 0.9619937331983308,\n        \"min\": -2.3761027155985013,\n        \"max\": 3.62697412199265,\n        \"num_unique_values\": 386,\n        \"samples\": [\n          -1.242143937603492,\n          0.5557725418596285,\n          -0.0541193503918969\n        ],\n        \"semantic_type\": \"\",\n        \"description\": \"\"\n      }\n    }\n  ]\n}"
            }
          },
          "metadata": {},
          "execution_count": 3
        }
      ]
    },
    {
      "cell_type": "code",
      "source": [
        "x = pd.read_csv(\"https://github.com/koroteevmv/ML_course/raw/main/ML1.2%20multivariate/data/0_x.csv\",\n",
        "                header=None)\n",
        "y = pd.read_csv(\"https://github.com/koroteevmv/ML_course/raw/main/ML1.2%20multivariate/data/0_y.csv\",\n",
        "                header=None)"
      ],
      "metadata": {
        "id": "M-E9EEbSbvM8"
      },
      "execution_count": null,
      "outputs": []
    },
    {
      "cell_type": "code",
      "source": [
        "x.shape, y.shape"
      ],
      "metadata": {
        "colab": {
          "base_uri": "https://localhost:8080/"
        },
        "id": "FvweB2ojb7q3",
        "outputId": "35e207c7-f202-46ca-85de-86309ff88edc"
      },
      "execution_count": null,
      "outputs": [
        {
          "output_type": "execute_result",
          "data": {
            "text/plain": [
              "((387, 5), (387, 1))"
            ]
          },
          "metadata": {},
          "execution_count": 5
        }
      ]
    },
    {
      "cell_type": "code",
      "source": [
        "from sklearn.linear_model import LinearRegression"
      ],
      "metadata": {
        "id": "-vsm01WhcD4P"
      },
      "execution_count": null,
      "outputs": []
    },
    {
      "cell_type": "code",
      "source": [
        "binary0 = LinearRegression()"
      ],
      "metadata": {
        "id": "hBtVX9YmcX6x"
      },
      "execution_count": null,
      "outputs": []
    },
    {
      "cell_type": "code",
      "source": [
        "binary0.fit(x[[0]], y)"
      ],
      "metadata": {
        "colab": {
          "base_uri": "https://localhost:8080/",
          "height": 57
        },
        "id": "KrYVWGE8cfWO",
        "outputId": "b72cd56e-e0fc-408e-c51b-c72ab9a9b0cc"
      },
      "execution_count": null,
      "outputs": [
        {
          "output_type": "execute_result",
          "data": {
            "text/plain": [
              "LinearRegression()"
            ],
            "text/html": [
              "<style>#sk-container-id-1 {\n",
              "  /* Definition of color scheme common for light and dark mode */\n",
              "  --sklearn-color-text: #000;\n",
              "  --sklearn-color-text-muted: #666;\n",
              "  --sklearn-color-line: gray;\n",
              "  /* Definition of color scheme for unfitted estimators */\n",
              "  --sklearn-color-unfitted-level-0: #fff5e6;\n",
              "  --sklearn-color-unfitted-level-1: #f6e4d2;\n",
              "  --sklearn-color-unfitted-level-2: #ffe0b3;\n",
              "  --sklearn-color-unfitted-level-3: chocolate;\n",
              "  /* Definition of color scheme for fitted estimators */\n",
              "  --sklearn-color-fitted-level-0: #f0f8ff;\n",
              "  --sklearn-color-fitted-level-1: #d4ebff;\n",
              "  --sklearn-color-fitted-level-2: #b3dbfd;\n",
              "  --sklearn-color-fitted-level-3: cornflowerblue;\n",
              "\n",
              "  /* Specific color for light theme */\n",
              "  --sklearn-color-text-on-default-background: var(--sg-text-color, var(--theme-code-foreground, var(--jp-content-font-color1, black)));\n",
              "  --sklearn-color-background: var(--sg-background-color, var(--theme-background, var(--jp-layout-color0, white)));\n",
              "  --sklearn-color-border-box: var(--sg-text-color, var(--theme-code-foreground, var(--jp-content-font-color1, black)));\n",
              "  --sklearn-color-icon: #696969;\n",
              "\n",
              "  @media (prefers-color-scheme: dark) {\n",
              "    /* Redefinition of color scheme for dark theme */\n",
              "    --sklearn-color-text-on-default-background: var(--sg-text-color, var(--theme-code-foreground, var(--jp-content-font-color1, white)));\n",
              "    --sklearn-color-background: var(--sg-background-color, var(--theme-background, var(--jp-layout-color0, #111)));\n",
              "    --sklearn-color-border-box: var(--sg-text-color, var(--theme-code-foreground, var(--jp-content-font-color1, white)));\n",
              "    --sklearn-color-icon: #878787;\n",
              "  }\n",
              "}\n",
              "\n",
              "#sk-container-id-1 {\n",
              "  color: var(--sklearn-color-text);\n",
              "}\n",
              "\n",
              "#sk-container-id-1 pre {\n",
              "  padding: 0;\n",
              "}\n",
              "\n",
              "#sk-container-id-1 input.sk-hidden--visually {\n",
              "  border: 0;\n",
              "  clip: rect(1px 1px 1px 1px);\n",
              "  clip: rect(1px, 1px, 1px, 1px);\n",
              "  height: 1px;\n",
              "  margin: -1px;\n",
              "  overflow: hidden;\n",
              "  padding: 0;\n",
              "  position: absolute;\n",
              "  width: 1px;\n",
              "}\n",
              "\n",
              "#sk-container-id-1 div.sk-dashed-wrapped {\n",
              "  border: 1px dashed var(--sklearn-color-line);\n",
              "  margin: 0 0.4em 0.5em 0.4em;\n",
              "  box-sizing: border-box;\n",
              "  padding-bottom: 0.4em;\n",
              "  background-color: var(--sklearn-color-background);\n",
              "}\n",
              "\n",
              "#sk-container-id-1 div.sk-container {\n",
              "  /* jupyter's `normalize.less` sets `[hidden] { display: none; }`\n",
              "     but bootstrap.min.css set `[hidden] { display: none !important; }`\n",
              "     so we also need the `!important` here to be able to override the\n",
              "     default hidden behavior on the sphinx rendered scikit-learn.org.\n",
              "     See: https://github.com/scikit-learn/scikit-learn/issues/21755 */\n",
              "  display: inline-block !important;\n",
              "  position: relative;\n",
              "}\n",
              "\n",
              "#sk-container-id-1 div.sk-text-repr-fallback {\n",
              "  display: none;\n",
              "}\n",
              "\n",
              "div.sk-parallel-item,\n",
              "div.sk-serial,\n",
              "div.sk-item {\n",
              "  /* draw centered vertical line to link estimators */\n",
              "  background-image: linear-gradient(var(--sklearn-color-text-on-default-background), var(--sklearn-color-text-on-default-background));\n",
              "  background-size: 2px 100%;\n",
              "  background-repeat: no-repeat;\n",
              "  background-position: center center;\n",
              "}\n",
              "\n",
              "/* Parallel-specific style estimator block */\n",
              "\n",
              "#sk-container-id-1 div.sk-parallel-item::after {\n",
              "  content: \"\";\n",
              "  width: 100%;\n",
              "  border-bottom: 2px solid var(--sklearn-color-text-on-default-background);\n",
              "  flex-grow: 1;\n",
              "}\n",
              "\n",
              "#sk-container-id-1 div.sk-parallel {\n",
              "  display: flex;\n",
              "  align-items: stretch;\n",
              "  justify-content: center;\n",
              "  background-color: var(--sklearn-color-background);\n",
              "  position: relative;\n",
              "}\n",
              "\n",
              "#sk-container-id-1 div.sk-parallel-item {\n",
              "  display: flex;\n",
              "  flex-direction: column;\n",
              "}\n",
              "\n",
              "#sk-container-id-1 div.sk-parallel-item:first-child::after {\n",
              "  align-self: flex-end;\n",
              "  width: 50%;\n",
              "}\n",
              "\n",
              "#sk-container-id-1 div.sk-parallel-item:last-child::after {\n",
              "  align-self: flex-start;\n",
              "  width: 50%;\n",
              "}\n",
              "\n",
              "#sk-container-id-1 div.sk-parallel-item:only-child::after {\n",
              "  width: 0;\n",
              "}\n",
              "\n",
              "/* Serial-specific style estimator block */\n",
              "\n",
              "#sk-container-id-1 div.sk-serial {\n",
              "  display: flex;\n",
              "  flex-direction: column;\n",
              "  align-items: center;\n",
              "  background-color: var(--sklearn-color-background);\n",
              "  padding-right: 1em;\n",
              "  padding-left: 1em;\n",
              "}\n",
              "\n",
              "\n",
              "/* Toggleable style: style used for estimator/Pipeline/ColumnTransformer box that is\n",
              "clickable and can be expanded/collapsed.\n",
              "- Pipeline and ColumnTransformer use this feature and define the default style\n",
              "- Estimators will overwrite some part of the style using the `sk-estimator` class\n",
              "*/\n",
              "\n",
              "/* Pipeline and ColumnTransformer style (default) */\n",
              "\n",
              "#sk-container-id-1 div.sk-toggleable {\n",
              "  /* Default theme specific background. It is overwritten whether we have a\n",
              "  specific estimator or a Pipeline/ColumnTransformer */\n",
              "  background-color: var(--sklearn-color-background);\n",
              "}\n",
              "\n",
              "/* Toggleable label */\n",
              "#sk-container-id-1 label.sk-toggleable__label {\n",
              "  cursor: pointer;\n",
              "  display: flex;\n",
              "  width: 100%;\n",
              "  margin-bottom: 0;\n",
              "  padding: 0.5em;\n",
              "  box-sizing: border-box;\n",
              "  text-align: center;\n",
              "  align-items: start;\n",
              "  justify-content: space-between;\n",
              "  gap: 0.5em;\n",
              "}\n",
              "\n",
              "#sk-container-id-1 label.sk-toggleable__label .caption {\n",
              "  font-size: 0.6rem;\n",
              "  font-weight: lighter;\n",
              "  color: var(--sklearn-color-text-muted);\n",
              "}\n",
              "\n",
              "#sk-container-id-1 label.sk-toggleable__label-arrow:before {\n",
              "  /* Arrow on the left of the label */\n",
              "  content: \"▸\";\n",
              "  float: left;\n",
              "  margin-right: 0.25em;\n",
              "  color: var(--sklearn-color-icon);\n",
              "}\n",
              "\n",
              "#sk-container-id-1 label.sk-toggleable__label-arrow:hover:before {\n",
              "  color: var(--sklearn-color-text);\n",
              "}\n",
              "\n",
              "/* Toggleable content - dropdown */\n",
              "\n",
              "#sk-container-id-1 div.sk-toggleable__content {\n",
              "  max-height: 0;\n",
              "  max-width: 0;\n",
              "  overflow: hidden;\n",
              "  text-align: left;\n",
              "  /* unfitted */\n",
              "  background-color: var(--sklearn-color-unfitted-level-0);\n",
              "}\n",
              "\n",
              "#sk-container-id-1 div.sk-toggleable__content.fitted {\n",
              "  /* fitted */\n",
              "  background-color: var(--sklearn-color-fitted-level-0);\n",
              "}\n",
              "\n",
              "#sk-container-id-1 div.sk-toggleable__content pre {\n",
              "  margin: 0.2em;\n",
              "  border-radius: 0.25em;\n",
              "  color: var(--sklearn-color-text);\n",
              "  /* unfitted */\n",
              "  background-color: var(--sklearn-color-unfitted-level-0);\n",
              "}\n",
              "\n",
              "#sk-container-id-1 div.sk-toggleable__content.fitted pre {\n",
              "  /* unfitted */\n",
              "  background-color: var(--sklearn-color-fitted-level-0);\n",
              "}\n",
              "\n",
              "#sk-container-id-1 input.sk-toggleable__control:checked~div.sk-toggleable__content {\n",
              "  /* Expand drop-down */\n",
              "  max-height: 200px;\n",
              "  max-width: 100%;\n",
              "  overflow: auto;\n",
              "}\n",
              "\n",
              "#sk-container-id-1 input.sk-toggleable__control:checked~label.sk-toggleable__label-arrow:before {\n",
              "  content: \"▾\";\n",
              "}\n",
              "\n",
              "/* Pipeline/ColumnTransformer-specific style */\n",
              "\n",
              "#sk-container-id-1 div.sk-label input.sk-toggleable__control:checked~label.sk-toggleable__label {\n",
              "  color: var(--sklearn-color-text);\n",
              "  background-color: var(--sklearn-color-unfitted-level-2);\n",
              "}\n",
              "\n",
              "#sk-container-id-1 div.sk-label.fitted input.sk-toggleable__control:checked~label.sk-toggleable__label {\n",
              "  background-color: var(--sklearn-color-fitted-level-2);\n",
              "}\n",
              "\n",
              "/* Estimator-specific style */\n",
              "\n",
              "/* Colorize estimator box */\n",
              "#sk-container-id-1 div.sk-estimator input.sk-toggleable__control:checked~label.sk-toggleable__label {\n",
              "  /* unfitted */\n",
              "  background-color: var(--sklearn-color-unfitted-level-2);\n",
              "}\n",
              "\n",
              "#sk-container-id-1 div.sk-estimator.fitted input.sk-toggleable__control:checked~label.sk-toggleable__label {\n",
              "  /* fitted */\n",
              "  background-color: var(--sklearn-color-fitted-level-2);\n",
              "}\n",
              "\n",
              "#sk-container-id-1 div.sk-label label.sk-toggleable__label,\n",
              "#sk-container-id-1 div.sk-label label {\n",
              "  /* The background is the default theme color */\n",
              "  color: var(--sklearn-color-text-on-default-background);\n",
              "}\n",
              "\n",
              "/* On hover, darken the color of the background */\n",
              "#sk-container-id-1 div.sk-label:hover label.sk-toggleable__label {\n",
              "  color: var(--sklearn-color-text);\n",
              "  background-color: var(--sklearn-color-unfitted-level-2);\n",
              "}\n",
              "\n",
              "/* Label box, darken color on hover, fitted */\n",
              "#sk-container-id-1 div.sk-label.fitted:hover label.sk-toggleable__label.fitted {\n",
              "  color: var(--sklearn-color-text);\n",
              "  background-color: var(--sklearn-color-fitted-level-2);\n",
              "}\n",
              "\n",
              "/* Estimator label */\n",
              "\n",
              "#sk-container-id-1 div.sk-label label {\n",
              "  font-family: monospace;\n",
              "  font-weight: bold;\n",
              "  display: inline-block;\n",
              "  line-height: 1.2em;\n",
              "}\n",
              "\n",
              "#sk-container-id-1 div.sk-label-container {\n",
              "  text-align: center;\n",
              "}\n",
              "\n",
              "/* Estimator-specific */\n",
              "#sk-container-id-1 div.sk-estimator {\n",
              "  font-family: monospace;\n",
              "  border: 1px dotted var(--sklearn-color-border-box);\n",
              "  border-radius: 0.25em;\n",
              "  box-sizing: border-box;\n",
              "  margin-bottom: 0.5em;\n",
              "  /* unfitted */\n",
              "  background-color: var(--sklearn-color-unfitted-level-0);\n",
              "}\n",
              "\n",
              "#sk-container-id-1 div.sk-estimator.fitted {\n",
              "  /* fitted */\n",
              "  background-color: var(--sklearn-color-fitted-level-0);\n",
              "}\n",
              "\n",
              "/* on hover */\n",
              "#sk-container-id-1 div.sk-estimator:hover {\n",
              "  /* unfitted */\n",
              "  background-color: var(--sklearn-color-unfitted-level-2);\n",
              "}\n",
              "\n",
              "#sk-container-id-1 div.sk-estimator.fitted:hover {\n",
              "  /* fitted */\n",
              "  background-color: var(--sklearn-color-fitted-level-2);\n",
              "}\n",
              "\n",
              "/* Specification for estimator info (e.g. \"i\" and \"?\") */\n",
              "\n",
              "/* Common style for \"i\" and \"?\" */\n",
              "\n",
              ".sk-estimator-doc-link,\n",
              "a:link.sk-estimator-doc-link,\n",
              "a:visited.sk-estimator-doc-link {\n",
              "  float: right;\n",
              "  font-size: smaller;\n",
              "  line-height: 1em;\n",
              "  font-family: monospace;\n",
              "  background-color: var(--sklearn-color-background);\n",
              "  border-radius: 1em;\n",
              "  height: 1em;\n",
              "  width: 1em;\n",
              "  text-decoration: none !important;\n",
              "  margin-left: 0.5em;\n",
              "  text-align: center;\n",
              "  /* unfitted */\n",
              "  border: var(--sklearn-color-unfitted-level-1) 1pt solid;\n",
              "  color: var(--sklearn-color-unfitted-level-1);\n",
              "}\n",
              "\n",
              ".sk-estimator-doc-link.fitted,\n",
              "a:link.sk-estimator-doc-link.fitted,\n",
              "a:visited.sk-estimator-doc-link.fitted {\n",
              "  /* fitted */\n",
              "  border: var(--sklearn-color-fitted-level-1) 1pt solid;\n",
              "  color: var(--sklearn-color-fitted-level-1);\n",
              "}\n",
              "\n",
              "/* On hover */\n",
              "div.sk-estimator:hover .sk-estimator-doc-link:hover,\n",
              ".sk-estimator-doc-link:hover,\n",
              "div.sk-label-container:hover .sk-estimator-doc-link:hover,\n",
              ".sk-estimator-doc-link:hover {\n",
              "  /* unfitted */\n",
              "  background-color: var(--sklearn-color-unfitted-level-3);\n",
              "  color: var(--sklearn-color-background);\n",
              "  text-decoration: none;\n",
              "}\n",
              "\n",
              "div.sk-estimator.fitted:hover .sk-estimator-doc-link.fitted:hover,\n",
              ".sk-estimator-doc-link.fitted:hover,\n",
              "div.sk-label-container:hover .sk-estimator-doc-link.fitted:hover,\n",
              ".sk-estimator-doc-link.fitted:hover {\n",
              "  /* fitted */\n",
              "  background-color: var(--sklearn-color-fitted-level-3);\n",
              "  color: var(--sklearn-color-background);\n",
              "  text-decoration: none;\n",
              "}\n",
              "\n",
              "/* Span, style for the box shown on hovering the info icon */\n",
              ".sk-estimator-doc-link span {\n",
              "  display: none;\n",
              "  z-index: 9999;\n",
              "  position: relative;\n",
              "  font-weight: normal;\n",
              "  right: .2ex;\n",
              "  padding: .5ex;\n",
              "  margin: .5ex;\n",
              "  width: min-content;\n",
              "  min-width: 20ex;\n",
              "  max-width: 50ex;\n",
              "  color: var(--sklearn-color-text);\n",
              "  box-shadow: 2pt 2pt 4pt #999;\n",
              "  /* unfitted */\n",
              "  background: var(--sklearn-color-unfitted-level-0);\n",
              "  border: .5pt solid var(--sklearn-color-unfitted-level-3);\n",
              "}\n",
              "\n",
              ".sk-estimator-doc-link.fitted span {\n",
              "  /* fitted */\n",
              "  background: var(--sklearn-color-fitted-level-0);\n",
              "  border: var(--sklearn-color-fitted-level-3);\n",
              "}\n",
              "\n",
              ".sk-estimator-doc-link:hover span {\n",
              "  display: block;\n",
              "}\n",
              "\n",
              "/* \"?\"-specific style due to the `<a>` HTML tag */\n",
              "\n",
              "#sk-container-id-1 a.estimator_doc_link {\n",
              "  float: right;\n",
              "  font-size: 1rem;\n",
              "  line-height: 1em;\n",
              "  font-family: monospace;\n",
              "  background-color: var(--sklearn-color-background);\n",
              "  border-radius: 1rem;\n",
              "  height: 1rem;\n",
              "  width: 1rem;\n",
              "  text-decoration: none;\n",
              "  /* unfitted */\n",
              "  color: var(--sklearn-color-unfitted-level-1);\n",
              "  border: var(--sklearn-color-unfitted-level-1) 1pt solid;\n",
              "}\n",
              "\n",
              "#sk-container-id-1 a.estimator_doc_link.fitted {\n",
              "  /* fitted */\n",
              "  border: var(--sklearn-color-fitted-level-1) 1pt solid;\n",
              "  color: var(--sklearn-color-fitted-level-1);\n",
              "}\n",
              "\n",
              "/* On hover */\n",
              "#sk-container-id-1 a.estimator_doc_link:hover {\n",
              "  /* unfitted */\n",
              "  background-color: var(--sklearn-color-unfitted-level-3);\n",
              "  color: var(--sklearn-color-background);\n",
              "  text-decoration: none;\n",
              "}\n",
              "\n",
              "#sk-container-id-1 a.estimator_doc_link.fitted:hover {\n",
              "  /* fitted */\n",
              "  background-color: var(--sklearn-color-fitted-level-3);\n",
              "}\n",
              "</style><div id=\"sk-container-id-1\" class=\"sk-top-container\"><div class=\"sk-text-repr-fallback\"><pre>LinearRegression()</pre><b>In a Jupyter environment, please rerun this cell to show the HTML representation or trust the notebook. <br />On GitHub, the HTML representation is unable to render, please try loading this page with nbviewer.org.</b></div><div class=\"sk-container\" hidden><div class=\"sk-item\"><div class=\"sk-estimator fitted sk-toggleable\"><input class=\"sk-toggleable__control sk-hidden--visually\" id=\"sk-estimator-id-1\" type=\"checkbox\" checked><label for=\"sk-estimator-id-1\" class=\"sk-toggleable__label fitted sk-toggleable__label-arrow\"><div><div>LinearRegression</div></div><div><a class=\"sk-estimator-doc-link fitted\" rel=\"noreferrer\" target=\"_blank\" href=\"https://scikit-learn.org/1.6/modules/generated/sklearn.linear_model.LinearRegression.html\">?<span>Documentation for LinearRegression</span></a><span class=\"sk-estimator-doc-link fitted\">i<span>Fitted</span></span></div></label><div class=\"sk-toggleable__content fitted\"><pre>LinearRegression()</pre></div> </div></div></div></div>"
            ]
          },
          "metadata": {},
          "execution_count": 8
        }
      ]
    },
    {
      "cell_type": "code",
      "source": [
        "binary0.coef_"
      ],
      "metadata": {
        "colab": {
          "base_uri": "https://localhost:8080/"
        },
        "id": "R1HQ2djGdJqx",
        "outputId": "d96564fc-e90f-4b1c-9fcf-a1dfe8c4cde1"
      },
      "execution_count": null,
      "outputs": [
        {
          "output_type": "execute_result",
          "data": {
            "text/plain": [
              "array([[22.78111342]])"
            ]
          },
          "metadata": {},
          "execution_count": 9
        }
      ]
    },
    {
      "cell_type": "code",
      "source": [
        "binary0.intercept_"
      ],
      "metadata": {
        "colab": {
          "base_uri": "https://localhost:8080/"
        },
        "id": "ie_yy7MNddnY",
        "outputId": "3d6cd06f-1a4f-4ed2-9641-7dd24223fff5"
      },
      "execution_count": null,
      "outputs": [
        {
          "output_type": "execute_result",
          "data": {
            "text/plain": [
              "array([-4.05666473])"
            ]
          },
          "metadata": {},
          "execution_count": 10
        }
      ]
    },
    {
      "cell_type": "code",
      "source": [
        "y_pred = binary0.predict(x[[0]])\n",
        "y_pred"
      ],
      "metadata": {
        "colab": {
          "base_uri": "https://localhost:8080/"
        },
        "id": "vbU-zYQldi0o",
        "outputId": "73f05cdf-624c-44c3-e9d0-0e09b6acae10"
      },
      "execution_count": null,
      "outputs": [
        {
          "output_type": "execute_result",
          "data": {
            "text/plain": [
              "array([[-2.42004238e+00],\n",
              "       [-8.78210657e-01],\n",
              "       [ 3.29925173e+01],\n",
              "       [-3.10120198e+01],\n",
              "       [-2.19025875e+01],\n",
              "       [ 6.60489450e+01],\n",
              "       [ 1.53292018e+00],\n",
              "       [-9.48419200e+00],\n",
              "       [-2.88367465e-01],\n",
              "       [-4.69952278e+01],\n",
              "       [-4.09231806e+01],\n",
              "       [-2.70194581e+01],\n",
              "       [ 1.17518386e+01],\n",
              "       [-7.03559131e-02],\n",
              "       [ 1.89831172e+01],\n",
              "       [-1.16383540e+01],\n",
              "       [-8.74458735e+00],\n",
              "       [-4.09081352e+01],\n",
              "       [-3.96006351e+01],\n",
              "       [-8.11923054e+00],\n",
              "       [ 1.70292960e+01],\n",
              "       [-1.25041007e+00],\n",
              "       [ 1.62900230e+01],\n",
              "       [ 3.28798224e-01],\n",
              "       [ 1.28098294e+00],\n",
              "       [ 2.43481882e+01],\n",
              "       [-3.11598811e+00],\n",
              "       [ 6.01712725e+00],\n",
              "       [ 2.86931625e+00],\n",
              "       [ 1.17934534e+01],\n",
              "       [ 2.87601089e+01],\n",
              "       [ 4.68571901e+01],\n",
              "       [ 1.33428473e+01],\n",
              "       [ 1.28246961e+01],\n",
              "       [-2.87904472e+01],\n",
              "       [ 5.33892874e+00],\n",
              "       [ 3.29446046e+00],\n",
              "       [ 1.00257106e+01],\n",
              "       [-5.95836618e+00],\n",
              "       [ 2.49039031e+01],\n",
              "       [-2.56568552e+01],\n",
              "       [ 2.07252300e+01],\n",
              "       [-3.14695122e+01],\n",
              "       [ 4.31763514e+01],\n",
              "       [ 1.47280526e+01],\n",
              "       [ 1.69715958e+01],\n",
              "       [ 2.57096867e+01],\n",
              "       [-4.49422877e+01],\n",
              "       [-2.74665450e+01],\n",
              "       [ 1.13352894e+01],\n",
              "       [ 1.34996051e+00],\n",
              "       [ 1.85847315e+01],\n",
              "       [-4.09413755e+01],\n",
              "       [ 1.49937486e+01],\n",
              "       [-9.02814958e+00],\n",
              "       [-5.85295347e+00],\n",
              "       [-2.23836266e+01],\n",
              "       [ 1.81753917e+01],\n",
              "       [ 1.05856249e+01],\n",
              "       [-5.17702631e+00],\n",
              "       [ 1.89162412e+01],\n",
              "       [ 6.06541869e+00],\n",
              "       [-2.80126703e+01],\n",
              "       [-1.78557637e+01],\n",
              "       [-5.50386753e+01],\n",
              "       [-9.65173779e+00],\n",
              "       [-4.28800074e+00],\n",
              "       [ 5.71189888e+00],\n",
              "       [ 3.30963268e+01],\n",
              "       [-3.55123795e+01],\n",
              "       [ 2.54935569e+01],\n",
              "       [ 4.87876706e+01],\n",
              "       [ 8.34856546e+00],\n",
              "       [-1.27529371e+01],\n",
              "       [ 6.30802994e+00],\n",
              "       [ 1.67445931e+01],\n",
              "       [ 3.17278406e+01],\n",
              "       [-8.59316301e+00],\n",
              "       [ 4.27525641e+00],\n",
              "       [-2.60644643e+01],\n",
              "       [-3.35163909e+01],\n",
              "       [-1.09964659e+01],\n",
              "       [-5.03399098e+00],\n",
              "       [ 7.41724009e+00],\n",
              "       [-2.76255962e+01],\n",
              "       [-9.18878967e+00],\n",
              "       [ 1.95455954e+01],\n",
              "       [-1.90943055e+01],\n",
              "       [-2.64919015e+01],\n",
              "       [-2.11194706e+01],\n",
              "       [-1.57724328e+01],\n",
              "       [ 7.94611536e+00],\n",
              "       [-4.99620422e+00],\n",
              "       [-2.10317323e+01],\n",
              "       [-4.35360799e+00],\n",
              "       [ 4.68067344e+00],\n",
              "       [-6.79233971e+00],\n",
              "       [ 2.30125025e-02],\n",
              "       [ 2.41340488e+01],\n",
              "       [ 2.74384965e+01],\n",
              "       [-8.02352787e+00],\n",
              "       [ 1.30634726e+00],\n",
              "       [-3.21799419e+00],\n",
              "       [-3.43526296e+00],\n",
              "       [-9.57944747e+00],\n",
              "       [-9.70917542e+00],\n",
              "       [-1.34453981e+01],\n",
              "       [-1.99771496e+01],\n",
              "       [-1.15670122e+01],\n",
              "       [ 3.50765482e+01],\n",
              "       [ 1.48347223e+01],\n",
              "       [ 1.31763446e+01],\n",
              "       [ 1.63182091e+01],\n",
              "       [ 4.28449601e+00],\n",
              "       [ 2.15308394e+01],\n",
              "       [ 4.38653487e+01],\n",
              "       [ 1.77216544e+01],\n",
              "       [ 1.37014307e+00],\n",
              "       [-1.35818169e+01],\n",
              "       [-6.60655404e+01],\n",
              "       [-2.23463462e+01],\n",
              "       [ 5.10891014e+01],\n",
              "       [ 4.52932714e+00],\n",
              "       [ 2.74562040e+01],\n",
              "       [-2.71145558e+00],\n",
              "       [-8.78362809e+00],\n",
              "       [ 2.65725444e+01],\n",
              "       [-2.79372873e+01],\n",
              "       [-3.42483031e+01],\n",
              "       [-2.25471385e+01],\n",
              "       [-5.69300042e+00],\n",
              "       [-1.19433384e+01],\n",
              "       [-3.15361466e+01],\n",
              "       [ 2.28495209e+01],\n",
              "       [ 1.52162307e+01],\n",
              "       [-2.49745524e+01],\n",
              "       [-1.69998398e+01],\n",
              "       [ 1.01644586e+00],\n",
              "       [ 3.10800108e+00],\n",
              "       [ 1.34806348e+01],\n",
              "       [ 3.00575859e+00],\n",
              "       [-1.49987542e+01],\n",
              "       [ 1.18538709e+01],\n",
              "       [ 2.71119379e+01],\n",
              "       [-1.57219491e+00],\n",
              "       [-2.31356850e+01],\n",
              "       [ 4.39681288e+00],\n",
              "       [ 1.51028775e+01],\n",
              "       [ 9.83426396e+00],\n",
              "       [ 3.23731219e+00],\n",
              "       [-4.41204436e+01],\n",
              "       [-5.02020722e+01],\n",
              "       [ 1.66678092e+00],\n",
              "       [-2.77339631e+01],\n",
              "       [ 2.64350957e+01],\n",
              "       [-3.70274407e+01],\n",
              "       [-3.17578103e+01],\n",
              "       [-8.71288686e+00],\n",
              "       [ 1.21056468e+01],\n",
              "       [-9.84965990e+00],\n",
              "       [-1.60277099e+00],\n",
              "       [ 1.40611397e-01],\n",
              "       [-6.65047485e+00],\n",
              "       [-1.01672432e+01],\n",
              "       [-2.06119838e+01],\n",
              "       [ 3.74432967e+01],\n",
              "       [-1.42245175e+01],\n",
              "       [-4.87228864e+00],\n",
              "       [-2.26001061e+00],\n",
              "       [-1.76539831e+01],\n",
              "       [-7.31227682e+00],\n",
              "       [-1.35003615e+01],\n",
              "       [ 2.43995859e+01],\n",
              "       [-5.51818052e+00],\n",
              "       [-1.06214365e+01],\n",
              "       [ 2.47015349e+01],\n",
              "       [-2.99818239e+01],\n",
              "       [-1.38765894e+01],\n",
              "       [-8.87417530e+00],\n",
              "       [-1.54658953e+01],\n",
              "       [-5.63829848e+00],\n",
              "       [ 1.94029208e+01],\n",
              "       [-2.59718221e+00],\n",
              "       [-1.32125980e+01],\n",
              "       [-3.60929680e+01],\n",
              "       [-2.30393365e+00],\n",
              "       [ 3.17113972e+01],\n",
              "       [-1.35594757e+01],\n",
              "       [ 3.12768320e+01],\n",
              "       [ 2.30725160e+01],\n",
              "       [ 3.12948523e+01],\n",
              "       [ 4.24426176e+01],\n",
              "       [-1.46177365e+01],\n",
              "       [-1.53998683e+00],\n",
              "       [ 1.63574367e+01],\n",
              "       [ 5.30572505e+00],\n",
              "       [ 1.11265783e+01],\n",
              "       [-3.35098830e+01],\n",
              "       [-1.09008534e+01],\n",
              "       [ 6.72082972e+00],\n",
              "       [ 1.43786033e+01],\n",
              "       [-3.84623903e+01],\n",
              "       [-1.50084511e+01],\n",
              "       [ 1.21272008e+01],\n",
              "       [-6.86321561e+00],\n",
              "       [ 2.31831510e+01],\n",
              "       [-2.87638359e+01],\n",
              "       [-6.22395108e+00],\n",
              "       [-2.97387994e+01],\n",
              "       [ 3.92772897e+01],\n",
              "       [ 2.79135385e+00],\n",
              "       [-6.11203197e+00],\n",
              "       [-4.17730346e+01],\n",
              "       [-4.30583607e+01],\n",
              "       [-2.08600225e+01],\n",
              "       [-7.90143601e+00],\n",
              "       [ 3.18425189e+01],\n",
              "       [ 3.59681849e+01],\n",
              "       [ 4.81145073e+00],\n",
              "       [ 3.91226728e+01],\n",
              "       [-2.37268090e+01],\n",
              "       [-1.28201814e-01],\n",
              "       [-4.26628875e+00],\n",
              "       [ 4.48937792e+00],\n",
              "       [-1.53645726e+01],\n",
              "       [ 9.09347641e+00],\n",
              "       [ 1.84194418e+01],\n",
              "       [-3.08581442e-01],\n",
              "       [-2.25628773e+01],\n",
              "       [ 1.81006514e+01],\n",
              "       [-1.27951357e+01],\n",
              "       [ 5.55567915e+01],\n",
              "       [-4.43339556e+01],\n",
              "       [ 3.18826288e+01],\n",
              "       [ 1.89411259e+01],\n",
              "       [ 8.78934549e+00],\n",
              "       [-1.48441200e+01],\n",
              "       [-9.49831569e-02],\n",
              "       [-1.53963967e+01],\n",
              "       [ 4.19046865e-01],\n",
              "       [-2.10131700e+01],\n",
              "       [-2.93665607e+00],\n",
              "       [ 5.09114851e+01],\n",
              "       [-3.97145798e+01],\n",
              "       [-4.89361498e+00],\n",
              "       [-1.41814673e+01],\n",
              "       [-1.33894031e+01],\n",
              "       [-3.18544403e+00],\n",
              "       [-1.85454520e+01],\n",
              "       [-2.54265795e+01],\n",
              "       [-2.46101188e+01],\n",
              "       [-2.74958828e+01],\n",
              "       [ 7.84955609e-01],\n",
              "       [ 4.98286330e+01],\n",
              "       [ 1.19623030e+01],\n",
              "       [ 2.67979967e+01],\n",
              "       [-1.44627778e+00],\n",
              "       [ 6.99743650e+00],\n",
              "       [ 3.11814018e+01],\n",
              "       [-5.91819631e+01],\n",
              "       [ 1.17575186e+01],\n",
              "       [ 2.23571416e+01],\n",
              "       [-6.04969922e-01],\n",
              "       [-1.94572074e+01],\n",
              "       [-2.08028313e+01],\n",
              "       [ 7.20409366e-01],\n",
              "       [-2.07960306e+01],\n",
              "       [ 4.45881519e+01],\n",
              "       [-2.78922829e+00],\n",
              "       [-3.19407596e+01],\n",
              "       [-1.35449775e+01],\n",
              "       [-9.62991685e+00],\n",
              "       [ 2.73811756e+01],\n",
              "       [-1.33900043e+00],\n",
              "       [-5.30829708e+00],\n",
              "       [-1.86456426e+01],\n",
              "       [-2.57186826e+01],\n",
              "       [-3.33287088e+00],\n",
              "       [-6.15423241e+01],\n",
              "       [-1.11443600e+01],\n",
              "       [-1.13457867e+01],\n",
              "       [ 2.43468265e+01],\n",
              "       [-9.13184078e+00],\n",
              "       [-5.40665392e+00],\n",
              "       [-1.56894259e+01],\n",
              "       [ 1.96349404e-01],\n",
              "       [-4.47073653e-02],\n",
              "       [-2.86240946e+01],\n",
              "       [-3.17130733e+01],\n",
              "       [ 1.66325606e+01],\n",
              "       [-1.39443290e+01],\n",
              "       [ 5.97018628e+00],\n",
              "       [-9.58769805e+00],\n",
              "       [ 1.10209984e+01],\n",
              "       [-1.00372031e+01],\n",
              "       [ 3.82331974e+00],\n",
              "       [ 1.12536000e+00],\n",
              "       [-1.38588471e+01],\n",
              "       [ 6.00924634e+00],\n",
              "       [ 3.92798702e+00],\n",
              "       [-3.61651975e+01],\n",
              "       [-1.36542914e+01],\n",
              "       [ 1.25788003e+01],\n",
              "       [ 5.37270332e-01],\n",
              "       [-9.58281859e+00],\n",
              "       [-2.05758551e+01],\n",
              "       [-7.62426434e+00],\n",
              "       [-4.35902318e+01],\n",
              "       [ 3.47881336e+00],\n",
              "       [ 6.07439331e+01],\n",
              "       [ 2.20148139e+01],\n",
              "       [ 2.28782157e+00],\n",
              "       [-3.35141240e+01],\n",
              "       [-4.27395462e+01],\n",
              "       [ 1.64730388e+01],\n",
              "       [ 6.43193914e-01],\n",
              "       [ 3.45193146e+01],\n",
              "       [ 3.08691693e+01],\n",
              "       [ 5.02487168e+00],\n",
              "       [-1.14301825e+01],\n",
              "       [-4.71824015e+01],\n",
              "       [-1.15541827e+01],\n",
              "       [ 3.78300146e+01],\n",
              "       [-3.97672105e+00],\n",
              "       [-1.27546290e+01],\n",
              "       [ 4.93388779e+00],\n",
              "       [ 1.83883398e+01],\n",
              "       [ 1.34353050e+01],\n",
              "       [ 7.31190992e+00],\n",
              "       [ 1.68371996e+01],\n",
              "       [-3.95264815e+01],\n",
              "       [ 8.98947308e-01],\n",
              "       [ 2.80970832e+00],\n",
              "       [-3.70301328e+01],\n",
              "       [ 2.71270223e+01],\n",
              "       [ 8.49220642e+00],\n",
              "       [ 3.81353858e+01],\n",
              "       [ 4.71063420e+01],\n",
              "       [-6.08793271e+01],\n",
              "       [ 1.49349084e+01],\n",
              "       [ 1.30594148e+01],\n",
              "       [-1.67173390e+01],\n",
              "       [-3.49311373e+00],\n",
              "       [ 2.01905240e+01],\n",
              "       [ 2.62801384e+01],\n",
              "       [-3.74229120e+00],\n",
              "       [-2.59328704e+01],\n",
              "       [ 3.87324365e+00],\n",
              "       [ 1.49648350e+01],\n",
              "       [-1.88790019e+01],\n",
              "       [ 2.64191399e+01],\n",
              "       [-2.65378119e+01],\n",
              "       [-1.62075204e+01],\n",
              "       [-4.73305465e+01],\n",
              "       [ 7.85416273e-01],\n",
              "       [ 1.67091731e+01],\n",
              "       [-3.21414263e+01],\n",
              "       [-2.52373056e+01],\n",
              "       [ 3.87110298e+01],\n",
              "       [-1.21375618e+01],\n",
              "       [-1.28637461e+01],\n",
              "       [ 4.40689403e+00],\n",
              "       [-6.80837816e+00],\n",
              "       [-3.63611846e+01],\n",
              "       [-5.47532358e+01],\n",
              "       [-7.87534998e+00],\n",
              "       [ 2.30198561e+01],\n",
              "       [-2.86382717e+01],\n",
              "       [-1.69253309e+01],\n",
              "       [-2.08170727e+01],\n",
              "       [-4.15030610e+01],\n",
              "       [ 9.85923224e+00],\n",
              "       [-6.76104416e+00],\n",
              "       [ 5.28613775e+00],\n",
              "       [-3.15037962e+01],\n",
              "       [ 1.28047879e+01],\n",
              "       [ 1.94014514e+01],\n",
              "       [ 1.05048827e+01],\n",
              "       [ 1.24402512e+01],\n",
              "       [ 2.67057109e+01],\n",
              "       [ 2.07452947e+01],\n",
              "       [-8.79192885e+00],\n",
              "       [ 1.15257050e+01],\n",
              "       [-1.38629075e+01],\n",
              "       [-1.44708353e+01],\n",
              "       [-1.18996944e+01],\n",
              "       [-3.47909762e+01]])"
            ]
          },
          "metadata": {},
          "execution_count": 16
        }
      ]
    },
    {
      "cell_type": "code",
      "source": [
        "plt.scatter(x[0], y)\n",
        "\n",
        "xx = np.linspace(x[0].min(), x[0].max(), 100).reshape((-1, 1))\n",
        "plt.plot(xx, binary0.predict(xx), c='r')"
      ],
      "metadata": {
        "colab": {
          "base_uri": "https://localhost:8080/",
          "height": 447
        },
        "id": "r3Eo6w4Xe7Ej",
        "outputId": "94ccc988-37b3-4b00-ece7-e2eeeed6e86f"
      },
      "execution_count": null,
      "outputs": [
        {
          "output_type": "execute_result",
          "data": {
            "text/plain": [
              "[<matplotlib.lines.Line2D at 0x79d0005d3e50>]"
            ]
          },
          "metadata": {},
          "execution_count": 27
        },
        {
          "output_type": "display_data",
          "data": {
            "text/plain": [
              "<Figure size 640x480 with 1 Axes>"
            ],
            "image/png": "[encoded data removed]"
          },
          "metadata": {}
        }
      ]
    },
    {
      "cell_type": "code",
      "source": [
        "binary0.score(x[[0]], y)"
      ],
      "metadata": {
        "colab": {
          "base_uri": "https://localhost:8080/"
        },
        "id": "VF5yuA0xgACP",
        "outputId": "97528057-40d8-4b4b-a3fb-c65ab6e36b63"
      },
      "execution_count": null,
      "outputs": [
        {
          "output_type": "execute_result",
          "data": {
            "text/plain": [
              "0.04364336234689348"
            ]
          },
          "metadata": {},
          "execution_count": 21
        }
      ]
    },
    {
      "cell_type": "code",
      "source": [
        "plt.scatter(y_pred, y)\n",
        "plt.plot(y, y, 'r')"
      ],
      "metadata": {
        "colab": {
          "base_uri": "https://localhost:8080/",
          "height": 447
        },
        "id": "f0ZDDf0OgXTG",
        "outputId": "cc3ec599-fe35-477b-9b84-1853ab014e8b"
      },
      "execution_count": null,
      "outputs": [
        {
          "output_type": "execute_result",
          "data": {
            "text/plain": [
              "[<matplotlib.lines.Line2D at 0x79d000f27090>]"
            ]
          },
          "metadata": {},
          "execution_count": 24
        },
        {
          "output_type": "display_data",
          "data": {
            "text/plain": [
              "<Figure size 640x480 with 1 Axes>"
            ],
            "image/png": "[encoded data removed]"
          },
          "metadata": {}
        }
      ]
    },
    {
      "cell_type": "code",
      "source": [
        "binary1 = LinearRegression().fit(x[[1]], y)"
      ],
      "metadata": {
        "id": "pDNYuWM_g-ys"
      },
      "execution_count": null,
      "outputs": []
    },
    {
      "cell_type": "code",
      "source": [
        "plt.scatter(x[1], y)\n",
        "\n",
        "xx = np.linspace(x[1].min(), x[1].max(), 100).reshape((-1, 1))\n",
        "plt.plot(xx, binary1.predict(xx), c='r')"
      ],
      "metadata": {
        "colab": {
          "base_uri": "https://localhost:8080/",
          "height": 447
        },
        "id": "RHzYx9arjhtb",
        "outputId": "f2f56fae-11a3-4113-8c64-4825c83f2cdf"
      },
      "execution_count": null,
      "outputs": [
        {
          "output_type": "execute_result",
          "data": {
            "text/plain": [
              "[<matplotlib.lines.Line2D at 0x79d0006337d0>]"
            ]
          },
          "metadata": {},
          "execution_count": 29
        },
        {
          "output_type": "display_data",
          "data": {
            "text/plain": [
              "<Figure size 640x480 with 1 Axes>"
            ],
            "image/png": "[encoded data removed]"
          },
          "metadata": {}
        }
      ]
    },
    {
      "cell_type": "code",
      "source": [
        "binary1.score(x[[1]], y)"
      ],
      "metadata": {
        "colab": {
          "base_uri": "https://localhost:8080/"
        },
        "id": "DHEmj5uLkHIs",
        "outputId": "88bc66ea-314a-4135-f54e-bb390e25031a"
      },
      "execution_count": null,
      "outputs": [
        {
          "output_type": "execute_result",
          "data": {
            "text/plain": [
              "0.7699743283650629"
            ]
          },
          "metadata": {},
          "execution_count": 30
        }
      ]
    },
    {
      "cell_type": "code",
      "source": [
        "y_pred = binary1.predict(x[[1]])\n",
        "plt.scatter(y_pred, y)\n",
        "plt.plot(y, y, 'r')"
      ],
      "metadata": {
        "colab": {
          "base_uri": "https://localhost:8080/",
          "height": 447
        },
        "id": "9fJMYso5kNle",
        "outputId": "ba3bf3e9-15f1-4ee4-9037-612e42958646"
      },
      "execution_count": null,
      "outputs": [
        {
          "output_type": "execute_result",
          "data": {
            "text/plain": [
              "[<matplotlib.lines.Line2D at 0x79d0008a44d0>]"
            ]
          },
          "metadata": {},
          "execution_count": 31
        },
        {
          "output_type": "display_data",
          "data": {
            "text/plain": [
              "<Figure size 640x480 with 1 Axes>"
            ],
            "image/png": "[encoded data removed]"
          },
          "metadata": {}
        }
      ]
    },
    {
      "cell_type": "code",
      "source": [
        "for i in range(5):\n",
        "  binary = LinearRegression().fit(x[[i]], y)\n",
        "  print(i, binary.score(x[[i]], y))"
      ],
      "metadata": {
        "colab": {
          "base_uri": "https://localhost:8080/"
        },
        "id": "Zl3CITLvklES",
        "outputId": "783e175b-645d-4331-dc67-eb0be97f16c1"
      },
      "execution_count": null,
      "outputs": [
        {
          "output_type": "stream",
          "name": "stdout",
          "text": [
            "0 0.04364336234689348\n",
            "1 0.7699743283650629\n",
            "2 0.18794528514998887\n",
            "3 0.047470345664983093\n",
            "4 0.00017176151145947838\n"
          ]
        }
      ]
    },
    {
      "cell_type": "code",
      "source": [
        "multiple = LinearRegression().fit(x, y)\n",
        "multiple.score(x, y)"
      ],
      "metadata": {
        "colab": {
          "base_uri": "https://localhost:8080/"
        },
        "id": "XAcsmStmlDf5",
        "outputId": "05c9a993-0f49-4b5c-a1bd-cefaaf0682f1"
      },
      "execution_count": null,
      "outputs": [
        {
          "output_type": "execute_result",
          "data": {
            "text/plain": [
              "0.9922198026415868"
            ]
          },
          "metadata": {},
          "execution_count": 33
        }
      ]
    },
    {
      "cell_type": "code",
      "source": [
        "y_pred = multiple.predict(x)\n",
        "plt.scatter(y_pred, y)\n",
        "plt.plot(y, y, 'r')"
      ],
      "metadata": {
        "colab": {
          "base_uri": "https://localhost:8080/",
          "height": 447
        },
        "id": "mk89jgz5lWEo",
        "outputId": "03a09fcb-0fe6-4e25-fcf0-7d5c2ac0e312"
      },
      "execution_count": null,
      "outputs": [
        {
          "output_type": "execute_result",
          "data": {
            "text/plain": [
              "[<matplotlib.lines.Line2D at 0x79d0008dad90>]"
            ]
          },
          "metadata": {},
          "execution_count": 34
        },
        {
          "output_type": "display_data",
          "data": {
            "text/plain": [
              "<Figure size 640x480 with 1 Axes>"
            ],
            "image/png": "[encoded data removed]"
          },
          "metadata": {}
        }
      ]
    },
    {
      "cell_type": "code",
      "source": [
        "multiple.coef_"
      ],
      "metadata": {
        "colab": {
          "base_uri": "https://localhost:8080/"
        },
        "id": "Xf3Hnw3Al3L2",
        "outputId": "86d2a6e8-377a-4758-c35b-02662ade996e"
      },
      "execution_count": null,
      "outputs": [
        {
          "output_type": "execute_result",
          "data": {
            "text/plain": [
              "array([[15.79537523, 93.21521093, 37.19410687, 31.19129121, -0.23773114]])"
            ]
          },
          "metadata": {},
          "execution_count": 35
        }
      ]
    },
    {
      "cell_type": "code",
      "source": [
        "multiple.intercept_"
      ],
      "metadata": {
        "colab": {
          "base_uri": "https://localhost:8080/"
        },
        "id": "hxGpI8lbl5v9",
        "outputId": "f005b9d8-ae5d-4c18-adad-884ed5a626d8"
      },
      "execution_count": null,
      "outputs": [
        {
          "output_type": "execute_result",
          "data": {
            "text/plain": [
              "array([0.56498354])"
            ]
          },
          "metadata": {},
          "execution_count": 36
        }
      ]
    }
  ]
}